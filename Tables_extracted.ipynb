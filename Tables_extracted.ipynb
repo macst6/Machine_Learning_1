{
  "nbformat": 4,
  "nbformat_minor": 0,
  "metadata": {
    "colab": {
      "provenance": []
    },
    "kernelspec": {
      "name": "python3",
      "display_name": "Python 3"
    },
    "language_info": {
      "name": "python"
    }
  },
  "cells": [
    {
      "cell_type": "code",
      "execution_count": 1,
      "metadata": {
        "colab": {
          "base_uri": "https://localhost:8080/"
        },
        "id": "Bs8ohOgG106A",
        "outputId": "d6c923a3-e3da-46be-a60f-b8785796f793"
      },
      "outputs": [
        {
          "output_type": "stream",
          "name": "stdout",
          "text": [
            "Collecting tabula-py\n",
            "  Downloading tabula_py-2.7.0-py3-none-any.whl (12.0 MB)\n",
            "\u001b[2K     \u001b[90m━━━━━━━━━━━━━━━━━━━━━━━━━━━━━━━━━━━━━━━━\u001b[0m \u001b[32m12.0/12.0 MB\u001b[0m \u001b[31m32.4 MB/s\u001b[0m eta \u001b[36m0:00:00\u001b[0m\n",
            "\u001b[?25hRequirement already satisfied: pandas>=0.25.3 in /usr/local/lib/python3.10/dist-packages (from tabula-py) (1.5.3)\n",
            "Requirement already satisfied: numpy in /usr/local/lib/python3.10/dist-packages (from tabula-py) (1.23.5)\n",
            "Requirement already satisfied: distro in /usr/lib/python3/dist-packages (from tabula-py) (1.7.0)\n",
            "Requirement already satisfied: python-dateutil>=2.8.1 in /usr/local/lib/python3.10/dist-packages (from pandas>=0.25.3->tabula-py) (2.8.2)\n",
            "Requirement already satisfied: pytz>=2020.1 in /usr/local/lib/python3.10/dist-packages (from pandas>=0.25.3->tabula-py) (2023.3.post1)\n",
            "Requirement already satisfied: six>=1.5 in /usr/local/lib/python3.10/dist-packages (from python-dateutil>=2.8.1->pandas>=0.25.3->tabula-py) (1.16.0)\n",
            "Installing collected packages: tabula-py\n",
            "Successfully installed tabula-py-2.7.0\n"
          ]
        }
      ],
      "source": [
        "!pip install tabula-py"
      ]
    },
    {
      "cell_type": "code",
      "source": [
        "import tabula\n",
        "from tabulate import tabulate  # Import the tabulate function from tabulate library\n",
        "\n",
        "# Read tables from the PDF file\n",
        "dfs = tabula.read_pdf(\"/content/1911.11929.pdf\", pages=\"all\")  # Replace with your PDF file path\n",
        "\n",
        "# Loop through and print each DataFrame\n",
        "for idx, df in enumerate(dfs):\n",
        "    print(f\"Table {idx + 1}:\")\n",
        "    if not df.empty:\n",
        "        print(tabulate(df, headers='keys', tablefmt='pretty'))  # Print the DataFrame in a tabular format\n",
        "    else:\n",
        "        print(\"Empty table\")\n"
      ],
      "metadata": {
        "colab": {
          "base_uri": "https://localhost:8080/"
        },
        "id": "MWM08i0F2O82",
        "outputId": "ea824e2b-482e-4331-d6dc-c13563752888"
      },
      "execution_count": 3,
      "outputs": [
        {
          "output_type": "stream",
          "name": "stderr",
          "text": [
            "WARNING:tabula.io:Got stderr: Sep 08, 2023 8:14:29 AM org.apache.pdfbox.pdmodel.font.PDType1Font <init>\n",
            "WARNING: Using fallback font LiberationSans for base font Symbol\n",
            "Sep 08, 2023 8:14:29 AM org.apache.pdfbox.pdmodel.font.PDType1Font <init>\n",
            "WARNING: Using fallback font LiberationSans for base font ZapfDingbats\n",
            "Sep 08, 2023 8:14:33 AM org.apache.pdfbox.pdmodel.font.PDSimpleFont toUnicode\n",
            "WARNING: No Unicode mapping for prime (48) in font EXPITJ+CMSY5\n",
            "Sep 08, 2023 8:14:37 AM org.apache.pdfbox.pdmodel.font.PDSimpleFont toUnicode\n",
            "WARNING: No Unicode mapping for check (88) in font RXNEKG+MSAM10\n",
            "\n"
          ]
        },
        {
          "output_type": "stream",
          "name": "stdout",
          "text": [
            "Table 1:\n",
            "+---+--------------------------------------------------------------------------------------------------------------------------+\n",
            "|   |   alleviate the disadvantages caused by using explicit feature map copy for concatenation; 2.) balance computation of    |\n",
            "+---+--------------------------------------------------------------------------------------------------------------------------+\n",
            "| 0 |  each layer: usually, the channel number in the base layer of a DenseNet is much larger than the growth rate. Since the  |\n",
            "| 1 | base layer channels involved in the dense layer operation in a partial dense block account for only half of the original |\n",
            "| 2 |   number, it can effectively solve nearly half of the computational bottleneck; and 3.) reduce memory traffic: Assume    |\n",
            "| 3 |   the base feature map size of a dense block in a DenseNet is w × h× c, the growth rate is d, and there are in total m   |\n",
            "| 4 |     dense layers. Then, the CIO of that dense block is (c×m) + ((m2 +m)× d)/2, and the CIO of partial dense block is     |\n",
            "| 5 |      ((c×m) + (m2 +m)× d)/2. While m and d are usually far smaller than c, a partial dense block is able to save at      |\n",
            "+---+--------------------------------------------------------------------------------------------------------------------------+\n",
            "Table 2:\n",
            "+---+------------+------------+---------+---------+------------+-----------+------------+------------+\n",
            "|   | Unnamed: 0 | Unnamed: 1 | two-way | partial | Unnamed: 2 | partial.1 | Unnamed: 3 | Unnamed: 4 |\n",
            "+---+------------+------------+---------+---------+------------+-----------+------------+------------+\n",
            "| 0 |   Model    |     γ      |   nan   |   nan   |   trans.   |    nan    |   Top-1    |   BFLOPs   |\n",
            "| 1 |    nan     |    nan     |  dense  |  dense  |    nan     |  trans.   |    nan     |    nan     |\n",
            "+---+------------+------------+---------+---------+------------+-----------+------------+------------+\n",
            "Table 3:\n",
            "+----+-------------------------------------------------------------+\n",
            "|    | Table 3: Compare with state-of-the-art methods on ImageNet. |\n",
            "+----+-------------------------------------------------------------+\n",
            "| 0  |             Model #Parameter BFLOPs Top-1 Top-5             |\n",
            "| 1  |            PeleeNet [37] 2.79M 1.017 70.7% 90.0%            |\n",
            "| 2  |           PeleeNet-swish 2.79M 1.017 71.5% 90.7%            |\n",
            "| 3  |          SEPeleeNet-swish 2.81M 1.017 72.1% 91.0%           |\n",
            "| 4  |         CSPPeleeNet 2.83M 0.888 (-13%) 70.9% 90.2%          |\n",
            "| 5  |      CSPPeleeNet-swish 2.83M 0.888 (-13%) 71.7% 90.8%       |\n",
            "| 6  |     SECSPPeleeNet-swish 2.85M 0.888 (-13%) 72.4% 91.0%      |\n",
            "| 7  |         SparsePeleeNet [46] 2.39M 0.904 69.6% 89.3%         |\n",
            "| 8  |        EfficientNet-B0* [34] 4.81M 0.915 71.3% 90.4%        |\n",
            "| 9  |           EfficientNet-B0** [34] - - 70.0% 88.9%            |\n",
            "| 10 |        Darknet Reference [27] 7.31M 0.96 61.1% 83.0%        |\n",
            "| 11 |        CSPDenseNet Reference 3.48M 0.886 65.7% 86.6%        |\n",
            "| 12 |        CSPPeleeNet Reference 4.10M 1.103 68.9% 88.7%        |\n",
            "| 13 |            ResNet-10 [7] 5.24M 2.273 63.5% 85.0%            |\n",
            "| 14 |         CSPResNet-10 2.73M 1.905 (-16%) 65.3% 86.5%         |\n",
            "| 15 |          ResNeXt-50 [39] 22.19M 10.11 77.8% 94.2%           |\n",
            "| 16 |        CSPResNeXt-50 20.50M 7.93 (-22%) 77.9% 94.0%         |\n",
            "| 17 |             HarDNet-138s [1] 35.5M 13.4 77.8% -             |\n",
            "| 18 |        DenseNet-264-32 [11] 27.21M 11.03 77.8% 93.9%        |\n",
            "| 19 |            ResNet-152 [7] 60.2M 22.6 77.8% 93.6%            |\n",
            "| 20 |      DenseNet-201-Elastic [36] 19.48M 8.77 77.9% 94.0%      |\n",
            "| 21 |   CSPDenseNet-201-Elastic 20.17M 7.13 (-19%) 77.9% 94.0%    |\n",
            "| 22 |     Res2Net-50 (10 crop) [5] 25.29M 8.4×10 78.0% 93.8%      |\n",
            "| 23 |     Res2NeXt-50 (10 crop) [5] 24.27M 8.4×10 78.2% 93.9%     |\n",
            "| 24 |      CSPResNeXt-50 (10 crop) 20.50M 7.9×10 78.2% 94.3%      |\n",
            "+----+-------------------------------------------------------------+\n",
            "Table 4:\n",
            "+----+--------------------+-------------------+---------+-----+--------+------------+------+------+------+------+------+------+\n",
            "|    |       Method       |     Backbone      |  Size   | FPS | BFLOPs | #Parameter |  AP  | AP50 | AP75 | APS  | APM  | APL  |\n",
            "+----+--------------------+-------------------+---------+-----+--------+------------+------+------+------+------+------+------+\n",
            "| 0  |    YOLOv3 [29]     |  DarkNet53 [29]   | 608×608 | 30  | 140.7  |   62.3M    | 33.0 | 57.9 | 34.4 | 18.3 | 25.4 | 41.9 |\n",
            "| 1  | YOLOv3 (SPP) [29]  |  DarkNet53 [29]   | 608×608 | 30  | 141.5  |   62.9M    | 36.2 | 60.6 | 38.2 | 20.6 | 37.4 | 46.1 |\n",
            "| 2  |      LRF [38]      |   ResNet101 [7]   | 512×512 | 31  |   -    |     -      | 37.3 | 58.5 | 39.7 | 19.7 | 42.8 | 50.1 |\n",
            "| 3  |      SSD [21]      |   HarDNet85 [1]   | 512×512 | 32  |   -    |     -      | 35.1 | 54.8 | 37.6 | 15.0 | 38.9 | 51.5 |\n",
            "| 4  |     M2Det [44]     |    VGG16 [32]     | 320×320 | 33  |   -    |     -      | 33.5 | 52.4 | 35.6 | 14.4 | 37.6 | 47.6 |\n",
            "| 5  |  PFPNet (R) [12]   |    VGG16 [32]     | 320×320 | 33  |   -    |     -      | 31.8 | 52.9 | 33.6 | 12.0 | 35.5 | 46.1 |\n",
            "| 6  |     DAFS [16]      |    VGG16 [32]     | 512×512 | 35  |   -    |     -      | 33.8 | 52.9 | 36.9 | 14.6 | 37.0 | 47.7 |\n",
            "| 7  |    RFBNet [19]     |    VGG16 [32]     | 512×512 | 35  |   -    |     -      | 33.8 | 54.2 | 35.9 | 16.2 | 37.1 | 47.4 |\n",
            "| 8  |  PANet (SPP) [20]  |   CSPResNeXt50    | 608×608 | 35  | 100.6  |   56.9M    | 38.4 | 60.6 | 41.6 | 22.1 | 41.8 | 47.6 |\n",
            "| 9  |      SSD [21]      |   HarDNet68 [1]   | 512×512 | 38  |   -    |     -      | 31.7 | 51.0 | 33.8 | 12.5 | 35.1 | 47.9 |\n",
            "| 10 |      LRF [38]      |    VGG16 [32]     | 512×512 | 38  |   -    |     -      | 36.2 | 56.6 | 38.7 | 19.0 | 39.9 | 48.8 |\n",
            "| 11 |  PFPNet (S) [12]   |    VGG16 [32]     | 300×300 | 39  |   -    |     -      | 29.6 | 49.6 | 31.1 | 10.6 | 32.0 | 44.9 |\n",
            "| 12 |   RefineDet [41]   |    VGG16 [32]     | 320×320 | 40  |   -    |     -      | 29.4 | 49.2 | 31.3 | 10.0 | 32.0 | 44.4 |\n",
            "| 13 |      SSD [21]      |    VGG16 [32]     | 300×300 | 44  |  70.4  |   34.3M    | 25.7 | 43.9 | 26.2 | 6.9  | 27.7 | 42.6 |\n",
            "| 14 |  PANet (SPP) [20]  |   CSPResNeXt50    | 512×512 | 44  |  71.3  |   56.9M    | 38.0 | 60.0 | 40.8 | 19.7 | 41.4 | 49.9 |\n",
            "| 15 |   CenterNet [45]   |   ResNet101 [7]   | 512×512 | 45  |   -    |     -      | 34.6 | 53.0 | 36.9 | nan  | nan  | nan  |\n",
            "| 16 |    YOLOv3 [29]     |  DarkNet53 [29]   | 416×416 | 46  |  65.9  |   62.3M    | 31.0 | 55.3 | 32.3 | 15.2 | 33.2 | 42.8 |\n",
            "| 17 |  PANet (SPP) [20]  |   CSPResNeXt50    | 416×416 | 53  |  47.1  |   56.9M    | 36.6 | 58.1 | 39.0 | 16.2 | 39.5 | 50.9 |\n",
            "| 18 |    TTFNet [23]     |  DarkNet53 [29]   | 512×512 | 54  |   -    |     -      | 35.1 | 52.5 | 37.8 | 17.0 | 38.5 | 49.5 |\n",
            "| 19 |    YOLOv3 [29]     |  DarkNet53 [29]   | 320×320 | 56  |  39.0  |   62.3M    | 28.2 | 51.5 | 29.7 | 11.9 | 30.6 | 43.4 |\n",
            "| 20 |  PANet (SPP) [20]  |   CSPResNeXt50    | 320×320 | 58  |  27.9  |   56.9M    | 33.4 | 54.0 | 35.1 | 11.8 | 35.3 | 50.9 |\n",
            "| 21 |     Pelee [37]     |   PeleeNet [37]   | 304×304 | 106 |  2.58  |   5.98M    | 22.4 | 38.3 | 22.9 | nan  | nan  | nan  |\n",
            "| 22 |     EFM (SAM)      |    CSPPeleeNet    | 512×512 | 109 |  7.68  |   4.31M    | 27.6 | 50.4 | 27.7 | 12.4 | 30.1 | 36.2 |\n",
            "| 23 |    TTFNet [23]     |   ResNet18 [7]    | 512×512 | 112 |   -    |     -      | 28.1 | 43.8 | 30.2 | 11.8 | 29.5 | 41.5 |\n",
            "| 24 |   CenterNet [45]   |   ResNet18 [7]    | 512×512 | 129 |   -    |     -      | 28.1 | 44.9 | 29.6 | nan  | nan  | nan  |\n",
            "| 25 |     EFM (SAM)      |    CSPPeleeNet    | 416×416 | 129 |  5.07  |   4.31M    | 26.8 | 49.0 | 26.7 | 9.8  | 28.2 | 38.8 |\n",
            "| 26 |      PRN [35]      |   PeleeNet [37]   | 416×416 | 145 |  4.04  |   3.16M    | 23.3 | 45.0 | 22.0 | 6.7  | 24.8 | 35.1 |\n",
            "| 27 |   EFM (SAM) [35]   | CSPPeleeNet Ref.  | 320×320 | 205 |  3.43  |   5.67M    | 23.5 | 44.6 | 22.7 | 7.1  | 23.6 | 36.1 |\n",
            "| 28 |  ThunderNet [25]   |   SNet535 [25]    | 320×320 | 214 |  2.60  |     -      | 28.0 | 46.2 | 29.5 | nan  | nan  | nan  |\n",
            "| 29 |   EFM (SAM) [35]   | CSPDenseNet Ref.  | 320×320 | 235 |  2.89  |   5.05M    | 21.7 | 42.2 | 20.6 | 6.3  | 21.3 | 33.3 |\n",
            "| 30 |  ThunderNet [25]   |   SNet146 [25]    | 320×320 | 248 |  0.95  |     -      | 23.6 | 40.2 | 24.5 | nan  | nan  | nan  |\n",
            "| 31 |  ThunderNet [25]   |    SNet49 [25]    | 320×320 | 267 |  0.52  |     -      | 19.1 | 33.7 | 19.6 | nan  | nan  | nan  |\n",
            "| 32 |   PRN (3l) [35]    | CSPPeleeNet Ref.  | 320×320 | 267 |  3.15  |   4.79M    | 19.4 | 40.0 | 17.0 | 5.8  | 18.8 | 31.1 |\n",
            "| 33 |      PRN [35]      | CSPPeleeNet Ref.  | 320×320 | 306 |  2.56  |   4.59M    | 18.8 | 38.5 | 16.6 | 5.0  | 18.9 | 31.4 |\n",
            "| 34 | YOLOv3 (tiny) [29] | DarkNet Ref. [29] | 416×416 | 330 |  5.57  |   8.86M    | nan  | 33.1 | nan  | nan  | nan  | nan  |\n",
            "| 35 |      PRN [35]      | CSPDenseNet Ref.  | 320×320 | 387 |  2.01  |   3.97M    | 16.8 | 35.4 | 14.3 | 4.4  | 16.6 | 28.5 |\n",
            "| 36 |      PRN [35]      | DarkNet Ref. [29] | 416×416 | 400 |  3.47  |   4.96M    | nan  | 33.1 | nan  | nan  | nan  | nan  |\n",
            "| 37 |      PRN [35]      | CSPDenseNetb Ref. | 320×320 | 400 |  1.59  |   1.87M    | 15.3 | 34.2 | 12.0 | 3.6  | 16.1 | 23.4 |\n",
            "+----+--------------------+-------------------+---------+-----+--------+------------+------+------+------+------+------+------+\n",
            "Table 5:\n",
            "+---+----------------------------+------+-----+-----+------+------+\n",
            "|   |           Model            | Size | GPU | CPU | mGPU | AP50 |\n",
            "+---+----------------------------+------+-----+-----+------+------+\n",
            "| 0 |    SNet146-Thunder [25]    | 320  | 248 | 32  |  -   | 40.2 |\n",
            "| 1 |    SNet49-Thunder [25]     | 320  | 267 | 47  |  -   | 33.7 |\n",
            "| 2 |      YOLOv3-tiny [29]      | 416  | 330 | 54  |  37  | 33.1 |\n",
            "| 3 |    YOLOv3-tiny-PRN [35]    | 416  | 400 | 71  |  49  | 33.1 |\n",
            "| 4 | CSPPeleeNet Ref.-EFM (SAM) | 320  | 205 |  -  |  41  | 44.6 |\n",
            "| 5 | CSPDenseNet Ref.-EFM (SAM) | 320  | 235 |  -  |  49  | 42.2 |\n",
            "| 6 | CSPPeleeNet Ref.-PRN (3l)  | 320  | 267 | 52  |  38  | 40.0 |\n",
            "| 7 |    CSPPeleeNet Ref.-PRN    | 320  | 306 | 75  |  52  | 38.5 |\n",
            "| 8 |    CSPDenseNet Ref.-PRN    | 320  | 387 | 95  |  64  | 35.4 |\n",
            "| 9 |   CSPDenseNetb Ref.-PRN    | 320  | 400 | 102 |  73  | 34.2 |\n",
            "+---+----------------------------+------+-----+-----+------+------+\n"
          ]
        }
      ]
    }
  ]
}