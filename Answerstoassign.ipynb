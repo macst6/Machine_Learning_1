{
  "nbformat": 4,
  "nbformat_minor": 0,
  "metadata": {
    "colab": {
      "provenance": []
    },
    "kernelspec": {
      "name": "python3",
      "display_name": "Python 3"
    },
    "language_info": {
      "name": "python"
    }
  },
  "cells": [
    {
      "cell_type": "code",
      "execution_count": null,
      "metadata": {
        "id": "9Nezs7_UcTSK"
      },
      "outputs": [],
      "source": [
        "import pandas as pd"
      ]
    },
    {
      "cell_type": "code",
      "source": [
        "df=pd.read_csv(\"/content/student_data.csv\")"
      ],
      "metadata": {
        "id": "b2pdjIQ_calb"
      },
      "execution_count": null,
      "outputs": []
    },
    {
      "cell_type": "code",
      "source": [
        "score_of_english=df[(df['English_Lit']<30)]\n",
        "score_of_english"
      ],
      "metadata": {
        "colab": {
          "base_uri": "https://localhost:8080/",
          "height": 1000
        },
        "id": "7glaKVzJcob6",
        "outputId": "d1d85343-5625-4746-a18a-7874f43545c1"
      },
      "execution_count": null,
      "outputs": [
        {
          "output_type": "execute_result",
          "data": {
            "text/plain": [
              "    StudentID        Name    Day 1    Day 2    Day 3    Day 4    Day 5  \\\n",
              "0           1   Student 1  Present  Present   Absent   Absent  Present   \n",
              "2           3   Student 3   Absent   Absent  Present  Present  Present   \n",
              "6           7   Student 7  Present   Absent  Present   Absent  Present   \n",
              "7           8   Student 8   Absent  Present  Present   Absent   Absent   \n",
              "9          10  Student 10  Present  Present   Absent  Present  Present   \n",
              "14         15  Student 15  Present  Present  Present   Absent  Present   \n",
              "15         16  Student 16   Absent  Present   Absent  Present   Absent   \n",
              "16         17  Student 17   Absent   Absent  Present   Absent   Absent   \n",
              "17         18  Student 18   Absent  Present  Present   Absent  Present   \n",
              "22         23  Student 23  Present   Absent   Absent  Present   Absent   \n",
              "23         24  Student 24  Present  Present   Absent  Present   Absent   \n",
              "24         25  Student 25   Absent   Absent   Absent  Present   Absent   \n",
              "28         29  Student 29  Present   Absent   Absent  Present  Present   \n",
              "31         32  Student 32  Present   Absent   Absent  Present   Absent   \n",
              "32         33  Student 33  Present  Present  Present   Absent   Absent   \n",
              "33         34  Student 34  Present  Present   Absent  Present   Absent   \n",
              "35         36  Student 36  Present   Absent   Absent  Present   Absent   \n",
              "36         37  Student 37   Absent   Absent  Present   Absent  Present   \n",
              "37         38  Student 38   Absent  Present  Present   Absent  Present   \n",
              "40         41  Student 41  Present   Absent  Present   Absent  Present   \n",
              "48         49  Student 49  Present  Present  Present   Absent   Absent   \n",
              "49         50  Student 50   Absent  Present  Present   Absent  Present   \n",
              "\n",
              "    English_Lit  Science  Maths  Geography  Spanish  French  \n",
              "0            28       31     34         46       34      31  \n",
              "2            24       17     16         32       20      31  \n",
              "6            18       35     35         48       30      46  \n",
              "7            20       19     20         44       39      27  \n",
              "9            23       21     31         28       50      47  \n",
              "14           16       27     44         47       33      49  \n",
              "15           20       28     18         50       46      45  \n",
              "16           26       26     48         50       27      36  \n",
              "17           26       27     19         24       19      16  \n",
              "22           17       25     16         31       38      36  \n",
              "23           24       32     35         38       33      23  \n",
              "24           17       18     35         44       17      19  \n",
              "28           16       47     26         48       23      31  \n",
              "31           27       31     49         27       37      32  \n",
              "32           15       37     21         28       15      26  \n",
              "33           22       23     46         44       41      37  \n",
              "35           22       27     32         25       35      38  \n",
              "36           18       19     27         45       22      15  \n",
              "37           19       39     40         45       37      31  \n",
              "40           17       40     23         23       41      34  \n",
              "48           18       40     38         27       40      20  \n",
              "49           17       21     17         27       38      38  "
            ],
            "text/html": [
              "\n",
              "  <div id=\"df-b410c94c-8a74-448e-8d82-a2611b61107f\" class=\"colab-df-container\">\n",
              "    <div>\n",
              "<style scoped>\n",
              "    .dataframe tbody tr th:only-of-type {\n",
              "        vertical-align: middle;\n",
              "    }\n",
              "\n",
              "    .dataframe tbody tr th {\n",
              "        vertical-align: top;\n",
              "    }\n",
              "\n",
              "    .dataframe thead th {\n",
              "        text-align: right;\n",
              "    }\n",
              "</style>\n",
              "<table border=\"1\" class=\"dataframe\">\n",
              "  <thead>\n",
              "    <tr style=\"text-align: right;\">\n",
              "      <th></th>\n",
              "      <th>StudentID</th>\n",
              "      <th>Name</th>\n",
              "      <th>Day 1</th>\n",
              "      <th>Day 2</th>\n",
              "      <th>Day 3</th>\n",
              "      <th>Day 4</th>\n",
              "      <th>Day 5</th>\n",
              "      <th>English_Lit</th>\n",
              "      <th>Science</th>\n",
              "      <th>Maths</th>\n",
              "      <th>Geography</th>\n",
              "      <th>Spanish</th>\n",
              "      <th>French</th>\n",
              "    </tr>\n",
              "  </thead>\n",
              "  <tbody>\n",
              "    <tr>\n",
              "      <th>0</th>\n",
              "      <td>1</td>\n",
              "      <td>Student 1</td>\n",
              "      <td>Present</td>\n",
              "      <td>Present</td>\n",
              "      <td>Absent</td>\n",
              "      <td>Absent</td>\n",
              "      <td>Present</td>\n",
              "      <td>28</td>\n",
              "      <td>31</td>\n",
              "      <td>34</td>\n",
              "      <td>46</td>\n",
              "      <td>34</td>\n",
              "      <td>31</td>\n",
              "    </tr>\n",
              "    <tr>\n",
              "      <th>2</th>\n",
              "      <td>3</td>\n",
              "      <td>Student 3</td>\n",
              "      <td>Absent</td>\n",
              "      <td>Absent</td>\n",
              "      <td>Present</td>\n",
              "      <td>Present</td>\n",
              "      <td>Present</td>\n",
              "      <td>24</td>\n",
              "      <td>17</td>\n",
              "      <td>16</td>\n",
              "      <td>32</td>\n",
              "      <td>20</td>\n",
              "      <td>31</td>\n",
              "    </tr>\n",
              "    <tr>\n",
              "      <th>6</th>\n",
              "      <td>7</td>\n",
              "      <td>Student 7</td>\n",
              "      <td>Present</td>\n",
              "      <td>Absent</td>\n",
              "      <td>Present</td>\n",
              "      <td>Absent</td>\n",
              "      <td>Present</td>\n",
              "      <td>18</td>\n",
              "      <td>35</td>\n",
              "      <td>35</td>\n",
              "      <td>48</td>\n",
              "      <td>30</td>\n",
              "      <td>46</td>\n",
              "    </tr>\n",
              "    <tr>\n",
              "      <th>7</th>\n",
              "      <td>8</td>\n",
              "      <td>Student 8</td>\n",
              "      <td>Absent</td>\n",
              "      <td>Present</td>\n",
              "      <td>Present</td>\n",
              "      <td>Absent</td>\n",
              "      <td>Absent</td>\n",
              "      <td>20</td>\n",
              "      <td>19</td>\n",
              "      <td>20</td>\n",
              "      <td>44</td>\n",
              "      <td>39</td>\n",
              "      <td>27</td>\n",
              "    </tr>\n",
              "    <tr>\n",
              "      <th>9</th>\n",
              "      <td>10</td>\n",
              "      <td>Student 10</td>\n",
              "      <td>Present</td>\n",
              "      <td>Present</td>\n",
              "      <td>Absent</td>\n",
              "      <td>Present</td>\n",
              "      <td>Present</td>\n",
              "      <td>23</td>\n",
              "      <td>21</td>\n",
              "      <td>31</td>\n",
              "      <td>28</td>\n",
              "      <td>50</td>\n",
              "      <td>47</td>\n",
              "    </tr>\n",
              "    <tr>\n",
              "      <th>14</th>\n",
              "      <td>15</td>\n",
              "      <td>Student 15</td>\n",
              "      <td>Present</td>\n",
              "      <td>Present</td>\n",
              "      <td>Present</td>\n",
              "      <td>Absent</td>\n",
              "      <td>Present</td>\n",
              "      <td>16</td>\n",
              "      <td>27</td>\n",
              "      <td>44</td>\n",
              "      <td>47</td>\n",
              "      <td>33</td>\n",
              "      <td>49</td>\n",
              "    </tr>\n",
              "    <tr>\n",
              "      <th>15</th>\n",
              "      <td>16</td>\n",
              "      <td>Student 16</td>\n",
              "      <td>Absent</td>\n",
              "      <td>Present</td>\n",
              "      <td>Absent</td>\n",
              "      <td>Present</td>\n",
              "      <td>Absent</td>\n",
              "      <td>20</td>\n",
              "      <td>28</td>\n",
              "      <td>18</td>\n",
              "      <td>50</td>\n",
              "      <td>46</td>\n",
              "      <td>45</td>\n",
              "    </tr>\n",
              "    <tr>\n",
              "      <th>16</th>\n",
              "      <td>17</td>\n",
              "      <td>Student 17</td>\n",
              "      <td>Absent</td>\n",
              "      <td>Absent</td>\n",
              "      <td>Present</td>\n",
              "      <td>Absent</td>\n",
              "      <td>Absent</td>\n",
              "      <td>26</td>\n",
              "      <td>26</td>\n",
              "      <td>48</td>\n",
              "      <td>50</td>\n",
              "      <td>27</td>\n",
              "      <td>36</td>\n",
              "    </tr>\n",
              "    <tr>\n",
              "      <th>17</th>\n",
              "      <td>18</td>\n",
              "      <td>Student 18</td>\n",
              "      <td>Absent</td>\n",
              "      <td>Present</td>\n",
              "      <td>Present</td>\n",
              "      <td>Absent</td>\n",
              "      <td>Present</td>\n",
              "      <td>26</td>\n",
              "      <td>27</td>\n",
              "      <td>19</td>\n",
              "      <td>24</td>\n",
              "      <td>19</td>\n",
              "      <td>16</td>\n",
              "    </tr>\n",
              "    <tr>\n",
              "      <th>22</th>\n",
              "      <td>23</td>\n",
              "      <td>Student 23</td>\n",
              "      <td>Present</td>\n",
              "      <td>Absent</td>\n",
              "      <td>Absent</td>\n",
              "      <td>Present</td>\n",
              "      <td>Absent</td>\n",
              "      <td>17</td>\n",
              "      <td>25</td>\n",
              "      <td>16</td>\n",
              "      <td>31</td>\n",
              "      <td>38</td>\n",
              "      <td>36</td>\n",
              "    </tr>\n",
              "    <tr>\n",
              "      <th>23</th>\n",
              "      <td>24</td>\n",
              "      <td>Student 24</td>\n",
              "      <td>Present</td>\n",
              "      <td>Present</td>\n",
              "      <td>Absent</td>\n",
              "      <td>Present</td>\n",
              "      <td>Absent</td>\n",
              "      <td>24</td>\n",
              "      <td>32</td>\n",
              "      <td>35</td>\n",
              "      <td>38</td>\n",
              "      <td>33</td>\n",
              "      <td>23</td>\n",
              "    </tr>\n",
              "    <tr>\n",
              "      <th>24</th>\n",
              "      <td>25</td>\n",
              "      <td>Student 25</td>\n",
              "      <td>Absent</td>\n",
              "      <td>Absent</td>\n",
              "      <td>Absent</td>\n",
              "      <td>Present</td>\n",
              "      <td>Absent</td>\n",
              "      <td>17</td>\n",
              "      <td>18</td>\n",
              "      <td>35</td>\n",
              "      <td>44</td>\n",
              "      <td>17</td>\n",
              "      <td>19</td>\n",
              "    </tr>\n",
              "    <tr>\n",
              "      <th>28</th>\n",
              "      <td>29</td>\n",
              "      <td>Student 29</td>\n",
              "      <td>Present</td>\n",
              "      <td>Absent</td>\n",
              "      <td>Absent</td>\n",
              "      <td>Present</td>\n",
              "      <td>Present</td>\n",
              "      <td>16</td>\n",
              "      <td>47</td>\n",
              "      <td>26</td>\n",
              "      <td>48</td>\n",
              "      <td>23</td>\n",
              "      <td>31</td>\n",
              "    </tr>\n",
              "    <tr>\n",
              "      <th>31</th>\n",
              "      <td>32</td>\n",
              "      <td>Student 32</td>\n",
              "      <td>Present</td>\n",
              "      <td>Absent</td>\n",
              "      <td>Absent</td>\n",
              "      <td>Present</td>\n",
              "      <td>Absent</td>\n",
              "      <td>27</td>\n",
              "      <td>31</td>\n",
              "      <td>49</td>\n",
              "      <td>27</td>\n",
              "      <td>37</td>\n",
              "      <td>32</td>\n",
              "    </tr>\n",
              "    <tr>\n",
              "      <th>32</th>\n",
              "      <td>33</td>\n",
              "      <td>Student 33</td>\n",
              "      <td>Present</td>\n",
              "      <td>Present</td>\n",
              "      <td>Present</td>\n",
              "      <td>Absent</td>\n",
              "      <td>Absent</td>\n",
              "      <td>15</td>\n",
              "      <td>37</td>\n",
              "      <td>21</td>\n",
              "      <td>28</td>\n",
              "      <td>15</td>\n",
              "      <td>26</td>\n",
              "    </tr>\n",
              "    <tr>\n",
              "      <th>33</th>\n",
              "      <td>34</td>\n",
              "      <td>Student 34</td>\n",
              "      <td>Present</td>\n",
              "      <td>Present</td>\n",
              "      <td>Absent</td>\n",
              "      <td>Present</td>\n",
              "      <td>Absent</td>\n",
              "      <td>22</td>\n",
              "      <td>23</td>\n",
              "      <td>46</td>\n",
              "      <td>44</td>\n",
              "      <td>41</td>\n",
              "      <td>37</td>\n",
              "    </tr>\n",
              "    <tr>\n",
              "      <th>35</th>\n",
              "      <td>36</td>\n",
              "      <td>Student 36</td>\n",
              "      <td>Present</td>\n",
              "      <td>Absent</td>\n",
              "      <td>Absent</td>\n",
              "      <td>Present</td>\n",
              "      <td>Absent</td>\n",
              "      <td>22</td>\n",
              "      <td>27</td>\n",
              "      <td>32</td>\n",
              "      <td>25</td>\n",
              "      <td>35</td>\n",
              "      <td>38</td>\n",
              "    </tr>\n",
              "    <tr>\n",
              "      <th>36</th>\n",
              "      <td>37</td>\n",
              "      <td>Student 37</td>\n",
              "      <td>Absent</td>\n",
              "      <td>Absent</td>\n",
              "      <td>Present</td>\n",
              "      <td>Absent</td>\n",
              "      <td>Present</td>\n",
              "      <td>18</td>\n",
              "      <td>19</td>\n",
              "      <td>27</td>\n",
              "      <td>45</td>\n",
              "      <td>22</td>\n",
              "      <td>15</td>\n",
              "    </tr>\n",
              "    <tr>\n",
              "      <th>37</th>\n",
              "      <td>38</td>\n",
              "      <td>Student 38</td>\n",
              "      <td>Absent</td>\n",
              "      <td>Present</td>\n",
              "      <td>Present</td>\n",
              "      <td>Absent</td>\n",
              "      <td>Present</td>\n",
              "      <td>19</td>\n",
              "      <td>39</td>\n",
              "      <td>40</td>\n",
              "      <td>45</td>\n",
              "      <td>37</td>\n",
              "      <td>31</td>\n",
              "    </tr>\n",
              "    <tr>\n",
              "      <th>40</th>\n",
              "      <td>41</td>\n",
              "      <td>Student 41</td>\n",
              "      <td>Present</td>\n",
              "      <td>Absent</td>\n",
              "      <td>Present</td>\n",
              "      <td>Absent</td>\n",
              "      <td>Present</td>\n",
              "      <td>17</td>\n",
              "      <td>40</td>\n",
              "      <td>23</td>\n",
              "      <td>23</td>\n",
              "      <td>41</td>\n",
              "      <td>34</td>\n",
              "    </tr>\n",
              "    <tr>\n",
              "      <th>48</th>\n",
              "      <td>49</td>\n",
              "      <td>Student 49</td>\n",
              "      <td>Present</td>\n",
              "      <td>Present</td>\n",
              "      <td>Present</td>\n",
              "      <td>Absent</td>\n",
              "      <td>Absent</td>\n",
              "      <td>18</td>\n",
              "      <td>40</td>\n",
              "      <td>38</td>\n",
              "      <td>27</td>\n",
              "      <td>40</td>\n",
              "      <td>20</td>\n",
              "    </tr>\n",
              "    <tr>\n",
              "      <th>49</th>\n",
              "      <td>50</td>\n",
              "      <td>Student 50</td>\n",
              "      <td>Absent</td>\n",
              "      <td>Present</td>\n",
              "      <td>Present</td>\n",
              "      <td>Absent</td>\n",
              "      <td>Present</td>\n",
              "      <td>17</td>\n",
              "      <td>21</td>\n",
              "      <td>17</td>\n",
              "      <td>27</td>\n",
              "      <td>38</td>\n",
              "      <td>38</td>\n",
              "    </tr>\n",
              "  </tbody>\n",
              "</table>\n",
              "</div>\n",
              "    <div class=\"colab-df-buttons\">\n",
              "\n",
              "  <div class=\"colab-df-container\">\n",
              "    <button class=\"colab-df-convert\" onclick=\"convertToInteractive('df-b410c94c-8a74-448e-8d82-a2611b61107f')\"\n",
              "            title=\"Convert this dataframe to an interactive table.\"\n",
              "            style=\"display:none;\">\n",
              "\n",
              "  <svg xmlns=\"http://www.w3.org/2000/svg\" height=\"24px\" viewBox=\"0 -960 960 960\">\n",
              "    <path d=\"M120-120v-720h720v720H120Zm60-500h600v-160H180v160Zm220 220h160v-160H400v160Zm0 220h160v-160H400v160ZM180-400h160v-160H180v160Zm440 0h160v-160H620v160ZM180-180h160v-160H180v160Zm440 0h160v-160H620v160Z\"/>\n",
              "  </svg>\n",
              "    </button>\n",
              "\n",
              "  <style>\n",
              "    .colab-df-container {\n",
              "      display:flex;\n",
              "      gap: 12px;\n",
              "    }\n",
              "\n",
              "    .colab-df-convert {\n",
              "      background-color: #E8F0FE;\n",
              "      border: none;\n",
              "      border-radius: 50%;\n",
              "      cursor: pointer;\n",
              "      display: none;\n",
              "      fill: #1967D2;\n",
              "      height: 32px;\n",
              "      padding: 0 0 0 0;\n",
              "      width: 32px;\n",
              "    }\n",
              "\n",
              "    .colab-df-convert:hover {\n",
              "      background-color: #E2EBFA;\n",
              "      box-shadow: 0px 1px 2px rgba(60, 64, 67, 0.3), 0px 1px 3px 1px rgba(60, 64, 67, 0.15);\n",
              "      fill: #174EA6;\n",
              "    }\n",
              "\n",
              "    .colab-df-buttons div {\n",
              "      margin-bottom: 4px;\n",
              "    }\n",
              "\n",
              "    [theme=dark] .colab-df-convert {\n",
              "      background-color: #3B4455;\n",
              "      fill: #D2E3FC;\n",
              "    }\n",
              "\n",
              "    [theme=dark] .colab-df-convert:hover {\n",
              "      background-color: #434B5C;\n",
              "      box-shadow: 0px 1px 3px 1px rgba(0, 0, 0, 0.15);\n",
              "      filter: drop-shadow(0px 1px 2px rgba(0, 0, 0, 0.3));\n",
              "      fill: #FFFFFF;\n",
              "    }\n",
              "  </style>\n",
              "\n",
              "    <script>\n",
              "      const buttonEl =\n",
              "        document.querySelector('#df-b410c94c-8a74-448e-8d82-a2611b61107f button.colab-df-convert');\n",
              "      buttonEl.style.display =\n",
              "        google.colab.kernel.accessAllowed ? 'block' : 'none';\n",
              "\n",
              "      async function convertToInteractive(key) {\n",
              "        const element = document.querySelector('#df-b410c94c-8a74-448e-8d82-a2611b61107f');\n",
              "        const dataTable =\n",
              "          await google.colab.kernel.invokeFunction('convertToInteractive',\n",
              "                                                    [key], {});\n",
              "        if (!dataTable) return;\n",
              "\n",
              "        const docLinkHtml = 'Like what you see? Visit the ' +\n",
              "          '<a target=\"_blank\" href=https://colab.research.google.com/notebooks/data_table.ipynb>data table notebook</a>'\n",
              "          + ' to learn more about interactive tables.';\n",
              "        element.innerHTML = '';\n",
              "        dataTable['output_type'] = 'display_data';\n",
              "        await google.colab.output.renderOutput(dataTable, element);\n",
              "        const docLink = document.createElement('div');\n",
              "        docLink.innerHTML = docLinkHtml;\n",
              "        element.appendChild(docLink);\n",
              "      }\n",
              "    </script>\n",
              "  </div>\n",
              "\n",
              "\n",
              "<div id=\"df-2d14e463-706d-4193-9f3a-85c545cf5320\">\n",
              "  <button class=\"colab-df-quickchart\" onclick=\"quickchart('df-2d14e463-706d-4193-9f3a-85c545cf5320')\"\n",
              "            title=\"Suggest charts.\"\n",
              "            style=\"display:none;\">\n",
              "\n",
              "<svg xmlns=\"http://www.w3.org/2000/svg\" height=\"24px\"viewBox=\"0 0 24 24\"\n",
              "     width=\"24px\">\n",
              "    <g>\n",
              "        <path d=\"M19 3H5c-1.1 0-2 .9-2 2v14c0 1.1.9 2 2 2h14c1.1 0 2-.9 2-2V5c0-1.1-.9-2-2-2zM9 17H7v-7h2v7zm4 0h-2V7h2v10zm4 0h-2v-4h2v4z\"/>\n",
              "    </g>\n",
              "</svg>\n",
              "  </button>\n",
              "\n",
              "<style>\n",
              "  .colab-df-quickchart {\n",
              "    background-color: #E8F0FE;\n",
              "    border: none;\n",
              "    border-radius: 50%;\n",
              "    cursor: pointer;\n",
              "    display: none;\n",
              "    fill: #1967D2;\n",
              "    height: 32px;\n",
              "    padding: 0 0 0 0;\n",
              "    width: 32px;\n",
              "  }\n",
              "\n",
              "  .colab-df-quickchart:hover {\n",
              "    background-color: #E2EBFA;\n",
              "    box-shadow: 0px 1px 2px rgba(60, 64, 67, 0.3), 0px 1px 3px 1px rgba(60, 64, 67, 0.15);\n",
              "    fill: #174EA6;\n",
              "  }\n",
              "\n",
              "  [theme=dark] .colab-df-quickchart {\n",
              "    background-color: #3B4455;\n",
              "    fill: #D2E3FC;\n",
              "  }\n",
              "\n",
              "  [theme=dark] .colab-df-quickchart:hover {\n",
              "    background-color: #434B5C;\n",
              "    box-shadow: 0px 1px 3px 1px rgba(0, 0, 0, 0.15);\n",
              "    filter: drop-shadow(0px 1px 2px rgba(0, 0, 0, 0.3));\n",
              "    fill: #FFFFFF;\n",
              "  }\n",
              "</style>\n",
              "\n",
              "  <script>\n",
              "    async function quickchart(key) {\n",
              "      const charts = await google.colab.kernel.invokeFunction(\n",
              "          'suggestCharts', [key], {});\n",
              "    }\n",
              "    (() => {\n",
              "      let quickchartButtonEl =\n",
              "        document.querySelector('#df-2d14e463-706d-4193-9f3a-85c545cf5320 button');\n",
              "      quickchartButtonEl.style.display =\n",
              "        google.colab.kernel.accessAllowed ? 'block' : 'none';\n",
              "    })();\n",
              "  </script>\n",
              "</div>\n",
              "    </div>\n",
              "  </div>\n"
            ]
          },
          "metadata": {},
          "execution_count": 31
        }
      ]
    },
    {
      "cell_type": "code",
      "source": [
        "English_subject_sum=df['English_Lit'].sum()\n",
        "print(\"Sum of English Literature\",English_subject_sum)"
      ],
      "metadata": {
        "colab": {
          "base_uri": "https://localhost:8080/"
        },
        "id": "_fEigXtQe2IM",
        "outputId": "cc8004e1-6289-40a6-ca00-8b41198ed01b"
      },
      "execution_count": null,
      "outputs": [
        {
          "output_type": "stream",
          "name": "stdout",
          "text": [
            "Sum of English Literature 1576\n"
          ]
        }
      ]
    },
    {
      "cell_type": "code",
      "source": [
        "highest_score_spanish=df['Spanish'].max()\n",
        "highest_scorer_spanish=df[df['Spanish']==highest_score_spanish]\n",
        "for index,row in highest_scorer_spanish.iterrows():\n",
        "  print('highest score in Spanish : ',highest_score_spanish)\n",
        "  print('Student name : ',row['Name'])"
      ],
      "metadata": {
        "colab": {
          "base_uri": "https://localhost:8080/"
        },
        "id": "Yc2jXqLzfXyB",
        "outputId": "e85252e1-d8b8-4d25-f502-853b3303f62f"
      },
      "execution_count": null,
      "outputs": [
        {
          "output_type": "stream",
          "name": "stdout",
          "text": [
            "highest score in Spanish :  50\n",
            "Student name :  Student 10\n"
          ]
        }
      ]
    },
    {
      "cell_type": "code",
      "source": [
        "df.replace({\"Present\": 0, \"Absent\": 1}, inplace=True)\n",
        "df['TotalAbsences'] = df[['Day 1', 'Day 2', 'Day 3', 'Day 4', 'Day 5']].sum(axis=1)\n",
        "name = df[df['TotalAbsences'] == df['TotalAbsences'].max()]\n",
        "studentmaxabsences = name['Name'].iloc[0]\n",
        "print(\"Student with the lowest attendance:\", studentmaxabsences)"
      ],
      "metadata": {
        "colab": {
          "base_uri": "https://localhost:8080/"
        },
        "id": "MUKb3f4_bMlM",
        "outputId": "2f09dea8-986a-4d10-b038-de9cf9b3a7e5"
      },
      "execution_count": null,
      "outputs": [
        {
          "output_type": "stream",
          "name": "stdout",
          "text": [
            "Student with the lowest attendance: Student 2\n"
          ]
        }
      ]
    },
    {
      "cell_type": "code",
      "source": [
        "frenchmeanscore=df[\"French\"].mean()\n",
        "print(\"Mean french score is : \",frenchmeanscore)"
      ],
      "metadata": {
        "colab": {
          "base_uri": "https://localhost:8080/"
        },
        "id": "BaQ1Fgefdczw",
        "outputId": "0cabe1f1-9e63-4a09-b2bd-da8b7159e629"
      },
      "execution_count": null,
      "outputs": [
        {
          "output_type": "stream",
          "name": "stdout",
          "text": [
            "Mean french score is :  31.68\n"
          ]
        }
      ]
    },
    {
      "cell_type": "code",
      "source": [
        "scmeanscore=df[\"Science\"].mode()\n",
        "print(\"Mode of Science is : \",scmeanscore)"
      ],
      "metadata": {
        "colab": {
          "base_uri": "https://localhost:8080/"
        },
        "id": "7i3syEzbd1M6",
        "outputId": "e9503afa-3620-41ef-9561-47644f617d97"
      },
      "execution_count": null,
      "outputs": [
        {
          "output_type": "stream",
          "name": "stdout",
          "text": [
            "Mode of Science is :  0    19\n",
            "1    27\n",
            "2    29\n",
            "3    31\n",
            "4    40\n",
            "Name: Science, dtype: int64\n"
          ]
        }
      ]
    },
    {
      "cell_type": "code",
      "source": [
        "df.replace({\"Present\": 1, \"Absent\": 0}, inplace=True)\n",
        "present_counts= df[['Day 1', 'Day 2', 'Day 3', 'Day 4', 'Day 5']].sum()\n",
        "highestdaypresent = present_counts.idxmax()\n",
        "highestdaypresentcount = present_counts.max()\n",
        "\n",
        "print(\"Day with the highest number of 'Present' entries:\", highestdaypresent)\n"
      ],
      "metadata": {
        "colab": {
          "base_uri": "https://localhost:8080/"
        },
        "id": "g8XXBIpqeb8w",
        "outputId": "415c9e97-6a19-4ee0-ff86-051760c21a3a"
      },
      "execution_count": null,
      "outputs": [
        {
          "output_type": "stream",
          "name": "stdout",
          "text": [
            "Day with the highest number of 'Present' entries: Day 3\n"
          ]
        }
      ]
    },
    {
      "cell_type": "code",
      "source": [
        "df.replace({\"Present\": 1, \"Absent\": 0}, inplace=True)\n",
        "absent_counts= df[['Day 1', 'Day 2', 'Day 3', 'Day 4', 'Day 5']].sum()\n",
        "highestdayabsent = absent_counts.idxmin()\n",
        "highestdayabsentcount = absent_counts.min()\n",
        "\n",
        "print(\"Day with the highest number of Absent entries:\", highestdayabsent)"
      ],
      "metadata": {
        "colab": {
          "base_uri": "https://localhost:8080/"
        },
        "id": "wXaMKZnVffY9",
        "outputId": "89c4b82a-a962-4ab6-d122-e621e335485c"
      },
      "execution_count": null,
      "outputs": [
        {
          "output_type": "stream",
          "name": "stdout",
          "text": [
            "Day with the highest number of Absent entries: Day 1\n"
          ]
        }
      ]
    },
    {
      "cell_type": "code",
      "source": [
        "df['Total_Maths_Science_Score'] = df['Maths'] + df['Science']\n",
        "highestscore = df[df['Total_Maths_Science_Score'] == df['Total_Maths_Science_Score'].max()]\n",
        "studentname = highestscore['Name'].iloc[0]\n",
        "print(\"Student with the highest total score in Maths and Science:\", studentname)"
      ],
      "metadata": {
        "colab": {
          "base_uri": "https://localhost:8080/"
        },
        "id": "MmaxgMAmg9vo",
        "outputId": "0f45d281-0fb6-40f1-83f9-a2f5c36ba0d8"
      },
      "execution_count": null,
      "outputs": [
        {
          "output_type": "stream",
          "name": "stdout",
          "text": [
            "Student with the highest total score in Maths and Science: Student 44\n"
          ]
        }
      ]
    },
    {
      "cell_type": "code",
      "source": [
        "df['TotalScore'] = df[['English_Lit', 'Science', 'Maths', 'Geography', 'Spanish', 'French']].sum(axis=1)\n",
        "lowestscore = df[df['TotalScore'] == df['TotalScore'].min()]\n",
        "lowestscorestudentname = lowestscore['Name'].iloc[0]\n",
        "print(\"Student with the lowest total score across all subjects:\", lowestscorestudentname)"
      ],
      "metadata": {
        "colab": {
          "base_uri": "https://localhost:8080/"
        },
        "id": "mNvwcklphRWG",
        "outputId": "71fba8db-35e5-4198-f0b4-2f0abc09bb47"
      },
      "execution_count": null,
      "outputs": [
        {
          "output_type": "stream",
          "name": "stdout",
          "text": [
            "Student with the lowest total score across all subjects: Student 18\n"
          ]
        }
      ]
    },
    {
      "cell_type": "code",
      "source": [
        "df.replace({\"Present\": 1, \"Absent\": 0}, inplace=True)\n",
        "df['Total_Absent_Days'] = 5 - df[['Day 1', 'Day 2', 'Day 3', 'Day 4', 'Day 5']].sum(axis=1)\n",
        "absent2 = df[df['Total_Absent_Days'] == 2].shape[0]\n",
        "print(\"Number of students absent for 2 days:\", absent2)"
      ],
      "metadata": {
        "colab": {
          "base_uri": "https://localhost:8080/"
        },
        "id": "MlFNL8l2hflW",
        "outputId": "453e48fd-53ce-404f-fe09-45b0eb567825"
      },
      "execution_count": null,
      "outputs": [
        {
          "output_type": "stream",
          "name": "stdout",
          "text": [
            "Number of students absent for 2 days: 12\n"
          ]
        }
      ]
    },
    {
      "cell_type": "code",
      "source": [
        "df.replace({\"Present\": 1, \"Absent\": 0}, inplace=True)\n",
        "df['Total_Present_Days'] = df[['Day 1', 'Day 2', 'Day 3', 'Day 4', 'Day 5']].sum(axis=1)\n",
        "present4 = df[df['Total_Present_Days'] == 4].shape[0]\n",
        "print(\"Number of students present for 4 days:\", present4)"
      ],
      "metadata": {
        "colab": {
          "base_uri": "https://localhost:8080/"
        },
        "id": "EJM2uQflkHyA",
        "outputId": "ba25988a-55b4-43fc-aaed-ef59d3a9fda6"
      },
      "execution_count": null,
      "outputs": [
        {
          "output_type": "stream",
          "name": "stdout",
          "text": [
            "Number of students present for 4 days: 10\n"
          ]
        }
      ]
    },
    {
      "cell_type": "code",
      "source": [
        "df['Total_Score'] = df[['English_Lit', 'Science', 'Maths', 'Geography', 'Spanish', 'French']].sum(axis=1)\n",
        "present25 = df[df['Total_Score'] > 25].shape[0]\n",
        "print(\"Number of students with a total score greater than 25:\", present25)"
      ],
      "metadata": {
        "colab": {
          "base_uri": "https://localhost:8080/"
        },
        "id": "Lh35LezWkMqi",
        "outputId": "e6d4f394-9554-4c93-8b28-4cb093e032e7"
      },
      "execution_count": null,
      "outputs": [
        {
          "output_type": "stream",
          "name": "stdout",
          "text": [
            "Number of students with a total score greater than 25: 50\n"
          ]
        }
      ]
    },
    {
      "cell_type": "code",
      "source": [
        "df['Total_Score'] = df[['English_Lit', 'Science', 'Maths', 'Geography', 'Spanish', 'French']].sum(axis=1)\n",
        "present30 = df[df['Total_Score'] > 30].shape[0]\n",
        "print(\"Number of students with a total score greater than 30:\", present30)"
      ],
      "metadata": {
        "colab": {
          "base_uri": "https://localhost:8080/"
        },
        "id": "YVByLhQRkQCz",
        "outputId": "89ff7d06-5170-4a16-ccb2-d70399419053"
      },
      "execution_count": null,
      "outputs": [
        {
          "output_type": "stream",
          "name": "stdout",
          "text": [
            "Number of students with a total score greater than 30: 50\n"
          ]
        }
      ]
    }
  ]
}